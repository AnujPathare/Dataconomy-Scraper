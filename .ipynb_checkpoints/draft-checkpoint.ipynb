{
 "cells": [
  {
   "cell_type": "code",
   "execution_count": 1,
   "id": "423b48cc",
   "metadata": {},
   "outputs": [],
   "source": [
    "# !pip install newspaper3k\n",
    "# !pip install selenium\n",
    "# !pip install requests\n",
    "# !pip install beautifulsoup4\n",
    "# !pip install pandas"
   ]
  },
  {
   "cell_type": "code",
   "execution_count": 25,
   "id": "10f81d0e",
   "metadata": {},
   "outputs": [],
   "source": [
    "import re\n",
    "import os\n",
    "import requests\n",
    "from newspaper import Article\n",
    "from selenium import webdriver\n",
    "from bs4 import BeautifulSoup\n",
    "from selenium.webdriver.chrome.options import Options"
   ]
  },
  {
   "cell_type": "code",
   "execution_count": 19,
   "id": "fbb2a318",
   "metadata": {},
   "outputs": [],
   "source": [
    "url  = \"https://dataconomy.com/2014/07/07/twitter-upgrades-vine-analytics-loop-count/\""
   ]
  },
  {
   "cell_type": "code",
   "execution_count": 27,
   "id": "c93740e7",
   "metadata": {},
   "outputs": [],
   "source": [
    "def save_to_text_file(title, link, author_name, author_URL, date, text, summary, folder_name):\n",
    "    # Remove invalid characters from the title to create a valid filename for the text file\n",
    "    filename = os.path.join(folder_name, re.sub(r'[\\/:*?\"<>|]', '', title) + '.txt')\n",
    "\n",
    "    # Create the directory if it doesn't exist\n",
    "    os.makedirs(folder_name, exist_ok=True)\n",
    "\n",
    "    # Open the file in write mode\n",
    "    with open(filename, 'w', encoding='utf-8') as file:\n",
    "        # Write the information to the file\n",
    "        file.write(f'Title: {title}\\n\\n')\n",
    "        file.write(f'Article Link: {link}\\n\\n')\n",
    "        file.write(f'Author: {author_name}\\n\\n')\n",
    "        file.write(f'Publish Date: {date}\\n\\n')\n",
    "        file.write(f'Article:\\n{text}\\n\\n')\n",
    "        file.write(f'Summary: {summary}\\n\\n')\n",
    "        file.write(f'Other Blogs by {author_name}: {author_URL}\\n')\n",
    "\n",
    "    print(f'Information saved to {filename}')"
   ]
  },
  {
   "cell_type": "code",
   "execution_count": 28,
   "id": "aabdd7fc",
   "metadata": {},
   "outputs": [
    {
     "name": "stdout",
     "output_type": "stream",
     "text": [
      "Information saved to Marketing & Sales\\Twitter Upgrades Vine Analytics with Loop Count.txt\n"
     ]
    }
   ],
   "source": [
    "# Make a request to the URL\n",
    "response = requests.get(url)\n",
    "html = response.text\n",
    "\n",
    "# Use BeautifulSoup to parse the HTML\n",
    "soup = BeautifulSoup(html, 'html.parser')\n",
    "\n",
    "# Find author information\n",
    "author = soup.find('div', class_='jeg_meta_author').find('a')\n",
    "\n",
    "# Create an Article object\n",
    "article = Article(url)\n",
    "article.set_html(html)\n",
    "article.parse()\n",
    "article.nlp()\n",
    "\n",
    "# Extract information from the article\n",
    "title = article.title\n",
    "link = article.url\n",
    "author_name = author.text\n",
    "author_URL = author.get('href')\n",
    "date = article.publish_date.date()\n",
    "text = article.text\n",
    "summary = article.summary\n",
    "\n",
    "# Save information to a text file\n",
    "save_to_text_file(title, link, author_name, author_URL, date, text, summary, 'Marketing & Sales')"
   ]
  },
  {
   "cell_type": "code",
   "execution_count": null,
   "id": "93542810",
   "metadata": {},
   "outputs": [],
   "source": []
  }
 ],
 "metadata": {
  "kernelspec": {
   "display_name": "Python 3 (ipykernel)",
   "language": "python",
   "name": "python3"
  },
  "language_info": {
   "codemirror_mode": {
    "name": "ipython",
    "version": 3
   },
   "file_extension": ".py",
   "mimetype": "text/x-python",
   "name": "python",
   "nbconvert_exporter": "python",
   "pygments_lexer": "ipython3",
   "version": "3.11.4"
  }
 },
 "nbformat": 4,
 "nbformat_minor": 5
}
